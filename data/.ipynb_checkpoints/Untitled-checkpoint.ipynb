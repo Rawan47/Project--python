{
 "cells": [
  {
   "cell_type": "code",
   "execution_count": 3,
   "id": "91b5ecc5",
   "metadata": {},
   "outputs": [],
   "source": [
    "import pandas as pd\n",
    "import numpy as np\n",
    "import seaborn as sns\n",
    "import os\n",
    "import matplotlib.pyplot as plt\n",
    "\n",
    "df = pd.read_csv('reviews_1500_end.csv',low_memory=False)"
   ]
  },
  {
   "cell_type": "code",
   "execution_count": null,
   "id": "da625cf4",
   "metadata": {},
   "outputs": [],
   "source": [
    "df_hm = df.drop(columns=['Unnamed: 0','review_text','review_title','skin_tone','eye_color','skin_type','hair_color','product_id',\n",
    "                         'product_name','brand_name','submission_time'])\n",
    "df_hm=df_hm.set_index('author_id')\n",
    "df_hm"
   ]
  },
  {
   "cell_type": "code",
   "execution_count": null,
   "id": "2c511fa4",
   "metadata": {},
   "outputs": [],
   "source": [
    "sns.heatmap(df_hm, annot=True)\n"
   ]
  },
  {
   "cell_type": "code",
   "execution_count": null,
   "id": "139cd5d6",
   "metadata": {},
   "outputs": [],
   "source": []
  }
 ],
 "metadata": {
  "kernelspec": {
   "display_name": "Python 3 (ipykernel)",
   "language": "python",
   "name": "python3"
  },
  "language_info": {
   "codemirror_mode": {
    "name": "ipython",
    "version": 3
   },
   "file_extension": ".py",
   "mimetype": "text/x-python",
   "name": "python",
   "nbconvert_exporter": "python",
   "pygments_lexer": "ipython3",
   "version": "3.9.13"
  }
 },
 "nbformat": 4,
 "nbformat_minor": 5
}
